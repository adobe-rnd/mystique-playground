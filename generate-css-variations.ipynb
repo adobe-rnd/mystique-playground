{
 "cells": [
  {
   "cell_type": "code",
   "id": "e3e6ffdab9a5b98a",
   "metadata": {
    "ExecuteTime": {
     "end_time": "2024-05-31T07:58:49.167710Z",
     "start_time": "2024-05-31T07:58:46.986006Z"
    }
   },
   "source": [
    "%reload_ext autoreload\n",
    "%autoreload 2\n",
    "!pip install -r requirements.txt\n",
    "!playwright install"
   ],
   "outputs": [
    {
     "name": "stdout",
     "output_type": "stream",
     "text": [
      "Requirement already satisfied: openai in ./venv/lib/python3.12/site-packages (from -r requirements.txt (line 1)) (1.30.1)\r\n",
      "Requirement already satisfied: python-dotenv in ./venv/lib/python3.12/site-packages (from -r requirements.txt (line 2)) (1.0.1)\r\n",
      "Requirement already satisfied: playwright in ./venv/lib/python3.12/site-packages (from -r requirements.txt (line 3)) (1.44.0)\r\n",
      "Requirement already satisfied: nest-asyncio in ./venv/lib/python3.12/site-packages (from -r requirements.txt (line 4)) (1.6.0)\r\n",
      "Requirement already satisfied: asyncio in ./venv/lib/python3.12/site-packages (from -r requirements.txt (line 5)) (3.4.3)\r\n",
      "Requirement already satisfied: jinja2 in ./venv/lib/python3.12/site-packages (from -r requirements.txt (line 6)) (3.1.4)\r\n",
      "Requirement already satisfied: anyio<5,>=3.5.0 in ./venv/lib/python3.12/site-packages (from openai->-r requirements.txt (line 1)) (4.3.0)\r\n",
      "Requirement already satisfied: distro<2,>=1.7.0 in ./venv/lib/python3.12/site-packages (from openai->-r requirements.txt (line 1)) (1.9.0)\r\n",
      "Requirement already satisfied: httpx<1,>=0.23.0 in ./venv/lib/python3.12/site-packages (from openai->-r requirements.txt (line 1)) (0.27.0)\r\n",
      "Requirement already satisfied: pydantic<3,>=1.9.0 in ./venv/lib/python3.12/site-packages (from openai->-r requirements.txt (line 1)) (2.7.1)\r\n",
      "Requirement already satisfied: sniffio in ./venv/lib/python3.12/site-packages (from openai->-r requirements.txt (line 1)) (1.3.1)\r\n",
      "Requirement already satisfied: tqdm>4 in ./venv/lib/python3.12/site-packages (from openai->-r requirements.txt (line 1)) (4.66.4)\r\n",
      "Requirement already satisfied: typing-extensions<5,>=4.7 in ./venv/lib/python3.12/site-packages (from openai->-r requirements.txt (line 1)) (4.11.0)\r\n",
      "Requirement already satisfied: greenlet==3.0.3 in ./venv/lib/python3.12/site-packages (from playwright->-r requirements.txt (line 3)) (3.0.3)\r\n",
      "Requirement already satisfied: pyee==11.1.0 in ./venv/lib/python3.12/site-packages (from playwright->-r requirements.txt (line 3)) (11.1.0)\r\n",
      "Requirement already satisfied: MarkupSafe>=2.0 in ./venv/lib/python3.12/site-packages (from jinja2->-r requirements.txt (line 6)) (2.1.5)\r\n",
      "Requirement already satisfied: idna>=2.8 in ./venv/lib/python3.12/site-packages (from anyio<5,>=3.5.0->openai->-r requirements.txt (line 1)) (3.7)\r\n",
      "Requirement already satisfied: certifi in ./venv/lib/python3.12/site-packages (from httpx<1,>=0.23.0->openai->-r requirements.txt (line 1)) (2024.2.2)\r\n",
      "Requirement already satisfied: httpcore==1.* in ./venv/lib/python3.12/site-packages (from httpx<1,>=0.23.0->openai->-r requirements.txt (line 1)) (1.0.5)\r\n",
      "Requirement already satisfied: h11<0.15,>=0.13 in ./venv/lib/python3.12/site-packages (from httpcore==1.*->httpx<1,>=0.23.0->openai->-r requirements.txt (line 1)) (0.14.0)\r\n",
      "Requirement already satisfied: annotated-types>=0.4.0 in ./venv/lib/python3.12/site-packages (from pydantic<3,>=1.9.0->openai->-r requirements.txt (line 1)) (0.7.0)\r\n",
      "Requirement already satisfied: pydantic-core==2.18.2 in ./venv/lib/python3.12/site-packages (from pydantic<3,>=1.9.0->openai->-r requirements.txt (line 1)) (2.18.2)\r\n"
     ]
    }
   ],
   "execution_count": 1
  },
  {
   "cell_type": "code",
   "id": "3fbaf9ddff707400",
   "metadata": {
    "jupyter": {
     "is_executing": true
    },
    "ExecuteTime": {
     "start_time": "2024-05-31T08:15:24.172524Z"
    }
   },
   "source": [
    "from lib.llm import (get_text_and_image_completions, parse_markdown_output, create_prompt_from_template)\n",
    "from lib.scraper import get_html_and_screenshot\n",
    "import nest_asyncio\n",
    "import asyncio\n",
    "import time\n",
    "import os\n",
    "\n",
    "\n",
    "async def generate_variations(original_url, preview_url, project_dir, selector):\n",
    "\n",
    "    os.makedirs(f\"{project_dir}/generated\", exist_ok=True)\n",
    "\n",
    "    print('Getting the HTML and screenshot of the original page...')\n",
    "    original_html, original_screenshot = await get_html_and_screenshot(original_url, selector)\n",
    "    \n",
    "    for iteration in range(0, 6):\n",
    "\n",
    "        print(f'Running iteration {iteration}...')\n",
    "\n",
    "        print('Running the assessment...')\n",
    "        goals = [\n",
    "            \"Improve conversion rate\",\n",
    "            \"Make the styles more consistent with the brand\",\n",
    "            \"Improve the overall look and feel of the form\"\n",
    "        ]\n",
    "        assessment_prompt = create_prompt_from_template(\n",
    "            \"prompts/assessment.txt\", \n",
    "            goals=goals,\n",
    "            html=original_html.strip()\n",
    "        )\n",
    "        instructions = get_text_and_image_completions(assessment_prompt, image_data=original_screenshot)\n",
    "        print(instructions)\n",
    "\n",
    "        print('Generating CSS variation...')\n",
    "        generation_prompt = create_prompt_from_template(\n",
    "            \"prompts/generation.txt\",\n",
    "            instructions=instructions,\n",
    "            html=original_html.strip()\n",
    "        )\n",
    "        raw_output = get_text_and_image_completions(generation_prompt, image_data=original_screenshot)\n",
    "        parsed_output = parse_markdown_output(raw_output)\n",
    "        with open(project_dir + f'generatedStyles.css', 'w') as text_file:\n",
    "            text_file.write('\\n'.join(parsed_output['css']))\n",
    "\n",
    "        print(\"Sleeping for 3 second...\")\n",
    "        time.sleep(3)\n",
    "\n",
    "        print('Getting the HTML and screenshot of the preview page...')\n",
    "        generated_html, generated_screenshot = await get_html_and_screenshot(preview_url + '?generatedStyles', selector)\n",
    "\n",
    "        print('Assessing the quality of the generated styles...')\n",
    "        verification_prompt = create_prompt_from_template(\n",
    "            \"prompts/verification.txt\",\n",
    "            html=generated_html.strip()\n",
    "        )\n",
    "        adjustments = get_text_and_image_completions(verification_prompt, image_data=generated_screenshot) \n",
    "        print(adjustments)\n",
    "\n",
    "        print('Applying adjustments...')\n",
    "        adjustment_prompt = create_prompt_from_template(\n",
    "            \"prompts/adjustment.txt\",\n",
    "            adjustments=adjustments,\n",
    "            html=generated_html.strip()\n",
    "        )\n",
    "        raw_output = get_text_and_image_completions(adjustment_prompt, image_data=generated_screenshot)\n",
    "        parsed_output = parse_markdown_output(raw_output)\n",
    "\n",
    "        with open(project_dir + f'generatedStyles.css', 'w') as text_file:\n",
    "            text_file.write('\\n'.join(parsed_output['css']))\n",
    "\n",
    "        with open(project_dir + f'generated/styles{iteration}.css', 'w') as text_file:\n",
    "            text_file.write('\\n'.join(parsed_output['css']))\n",
    "\n",
    "original_url = \"https://main--wknd--hlxsites.hlx.live/\"\n",
    "preview_url = \"http://localhost:3000/\"\n",
    "selector = '.featured-article.block'\n",
    "project_dir = '/Users/tsaplin/Work/Sources/mystique-wknd/'\n",
    "\n",
    "nest_asyncio.apply()\n",
    "asyncio.get_event_loop().run_until_complete(generate_variations(original_url, preview_url, project_dir, selector))\n",
    "\n"
   ],
   "outputs": [
    {
     "name": "stdout",
     "output_type": "stream",
     "text": [
      "Getting the HTML and screenshot of the original page...\n",
      "Running iteration 0...\n",
      "Running the assessment...\n",
      "- Remove unnecessary inline styles.\n",
      "- Simplify the background color for the entire form.\n",
      "- Adjust font size of the article to ensure readability.\n",
      "- Use a consistent font family across the article text.\n",
      "- Centralize text alignment for better visual hierarchy.\n",
      "- Increase line height for better text readability.\n",
      "- Use a consistent color scheme for headers and body text.\n",
      "- Ensure button text transformation is consistent with branding.\n",
      "- Change the button color to a more brand-consistent color.\n",
      "- Add padding to the button for better spacing.\n",
      "- Utilize CSS classes for styling instead of inline styles.\n",
      "- Apply responsive design techniques for various screen sizes.\n",
      "Generating CSS variation...\n",
      "Sleeping for 3 second...\n"
     ]
    }
   ],
   "execution_count": null
  },
  {
   "metadata": {},
   "cell_type": "code",
   "outputs": [],
   "execution_count": null,
   "source": "",
   "id": "220768b13d1e4d4a"
  }
 ],
 "metadata": {
  "kernelspec": {
   "display_name": "Python 3 (ipykernel)",
   "language": "python",
   "name": "python3"
  },
  "language_info": {
   "codemirror_mode": {
    "name": "ipython",
    "version": 3
   },
   "file_extension": ".py",
   "mimetype": "text/x-python",
   "name": "python",
   "nbconvert_exporter": "python",
   "pygments_lexer": "ipython3",
   "version": "3.12.2"
  }
 },
 "nbformat": 4,
 "nbformat_minor": 5
}
