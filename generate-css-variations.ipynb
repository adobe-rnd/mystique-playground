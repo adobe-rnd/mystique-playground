{
 "cells": [
  {
   "cell_type": "code",
   "id": "e3e6ffdab9a5b98a",
   "metadata": {
    "ExecuteTime": {
     "end_time": "2024-06-03T13:33:32.664065Z",
     "start_time": "2024-06-03T13:33:31.646900Z"
    }
   },
   "source": [
    "%reload_ext autoreload\n",
    "%autoreload 2\n",
    "!pip install -r ../requirements.txt\n",
    "!playwright install"
   ],
   "outputs": [
    {
     "name": "stdout",
     "output_type": "stream",
     "text": [
      "\u001B[31mERROR: Could not open requirements file: [Errno 2] No such file or directory: '../requirements.txt'\u001B[0m\u001B[31m\r\n",
      "\u001B[0m"
     ]
    }
   ],
   "execution_count": 5
  },
  {
   "cell_type": "code",
   "id": "3fbaf9ddff707400",
   "metadata": {
    "ExecuteTime": {
     "end_time": "2024-06-03T13:25:21.180464Z",
     "start_time": "2024-06-03T13:24:27.158081Z"
    }
   },
   "source": [
    "from server.llm import (get_text_and_image_completions, parse_markdown_output, create_prompt_from_template)\n",
    "from server.scraper import get_html_and_screenshot\n",
    "import nest_asyncio\n",
    "import asyncio\n",
    "import time\n",
    "import os\n",
    "\n",
    "\n",
    "async def generate_variations(original_url, preview_url, project_dir, selector):\n",
    "\n",
    "    os.makedirs(f\"{project_dir}/generated\", exist_ok=True)\n",
    "\n",
    "    print('Getting the HTML and screenshot of the original page...')\n",
    "    original_html, original_screenshot = await get_html_and_screenshot(original_url, selector)\n",
    "    \n",
    "    for iteration in range(0, 6):\n",
    "\n",
    "        print(f'Running iteration {iteration}...')\n",
    "\n",
    "        print('Running the assessment...')\n",
    "        goals = [\n",
    "            \"Improve conversion rate\",\n",
    "            \"Make the styles more consistent with the brand\",\n",
    "            \"Improve the overall look and feel of the form\"\n",
    "        ]\n",
    "        assessment_prompt = create_prompt_from_template(\n",
    "            \"server/generation_strategies/default/prompts/assessment.txt\", \n",
    "            goals=goals,\n",
    "            html=original_html.strip()\n",
    "        )\n",
    "        instructions = get_text_and_image_completions(assessment_prompt, image_data=original_screenshot)\n",
    "        print(instructions)\n",
    "\n",
    "        print('Generating CSS variation...')\n",
    "        generation_prompt = create_prompt_from_template(\n",
    "            \"server/generation_strategies/default/prompts/generation.txt\",\n",
    "            instructions=instructions,\n",
    "            html=original_html.strip()\n",
    "        )\n",
    "        raw_output = get_text_and_image_completions(generation_prompt, image_data=original_screenshot)\n",
    "        parsed_output = parse_markdown_output(raw_output)\n",
    "        with open(project_dir + f'generatedStyles.css', 'w') as text_file:\n",
    "            text_file.write('\\n'.join(parsed_output['css']))\n",
    "\n",
    "        print(\"Sleeping for 3 second...\")\n",
    "        time.sleep(3)\n",
    "\n",
    "        print('Getting the HTML and screenshot of the preview page...')\n",
    "        generated_html, generated_screenshot = await get_html_and_screenshot(preview_url + '?generatedStyles', selector)\n",
    "\n",
    "        print('Assessing the quality of the generated styles...')\n",
    "        verification_prompt = create_prompt_from_template(\n",
    "            \"server/generation_strategies/default/prompts/verification.txt\",\n",
    "            html=generated_html.strip()\n",
    "        )\n",
    "        adjustments = get_text_and_image_completions(verification_prompt, image_data=generated_screenshot) \n",
    "        print(adjustments)\n",
    "\n",
    "        print('Applying adjustments...')\n",
    "        adjustment_prompt = create_prompt_from_template(\n",
    "            \"server/generation_strategies/default/prompts/adjustment.txt\",\n",
    "            adjustments=adjustments,\n",
    "            html=generated_html.strip()\n",
    "        )\n",
    "        raw_output = get_text_and_image_completions(adjustment_prompt, image_data=generated_screenshot)\n",
    "        parsed_output = parse_markdown_output(raw_output)\n",
    "\n",
    "        with open(project_dir + f'generatedStyles.css', 'w') as text_file:\n",
    "            text_file.write('\\n'.join(parsed_output['css']))\n",
    "\n",
    "        with open(project_dir + f'generated/styles{iteration}.css', 'w') as text_file:\n",
    "            text_file.write('\\n'.join(parsed_output['css']))\n",
    "\n",
    "original_url = \"https://main--wknd--hlxsites.hlx.live/\"\n",
    "preview_url = \"http://localhost:3000/\"\n",
    "selector = '.featured-article.block'\n",
    "project_dir = '/Users/tsaplin/Work/Sources/mystique-wknd/'\n",
    "\n",
    "nest_asyncio.apply()\n",
    "asyncio.get_event_loop().run_until_complete(generate_variations(original_url, preview_url, project_dir, selector))\n",
    "\n"
   ],
   "outputs": [
    {
     "name": "stdout",
     "output_type": "stream",
     "text": [
      "Getting the HTML and screenshot of the original page...\n",
      "Getting HTML and screenshot of https://main--wknd--hlxsites.hlx.live/...\n",
      "Running iteration 0...\n",
      "Running the assessment...\n",
      "- Adjust the font size of the main heading (`h2`) to be larger for better readability.\n",
      "- Use a consistent font family across all text elements for a cohesive look.\n",
      "- Change the background color of the `div.text` to match the brand's primary color.\n",
      "- Increase padding inside the `div.text` for better spacing.\n",
      "- Modify the background color of the button (`a.button.primary`) to blend well with the rest of the design.\n",
      "- Adjust the font weight of the article text (`div.text p`) for better readability.\n",
      "- Change the line height of the article text to improve text legibility.\n",
      "- Center align the button text for a more polished look.\n",
      "- Ensure that the `img` element is fully responsive to maintain proportions on different screen sizes.\n",
      "- Add border radius to the button for a more modern look.\n",
      "Generating CSS variation...\n",
      "Sleeping for 3 second...\n",
      "Getting the HTML and screenshot of the preview page...\n",
      "Getting HTML and screenshot of http://localhost:3000/?generatedStyles...\n"
     ]
    },
    {
     "ename": "Error",
     "evalue": "Page.goto: net::ERR_CONNECTION_REFUSED at http://localhost:3000/?generatedStyles\nCall log:\nnavigating to \"http://localhost:3000/?generatedStyles\", waiting until \"load\"\n",
     "output_type": "error",
     "traceback": [
      "\u001B[0;31m---------------------------------------------------------------------------\u001B[0m",
      "\u001B[0;31mError\u001B[0m                                     Traceback (most recent call last)",
      "Cell \u001B[0;32mIn[4], line 80\u001B[0m\n\u001B[1;32m     77\u001B[0m project_dir \u001B[38;5;241m=\u001B[39m \u001B[38;5;124m'\u001B[39m\u001B[38;5;124m/Users/tsaplin/Work/Sources/mystique-wknd/\u001B[39m\u001B[38;5;124m'\u001B[39m\n\u001B[1;32m     79\u001B[0m nest_asyncio\u001B[38;5;241m.\u001B[39mapply()\n\u001B[0;32m---> 80\u001B[0m \u001B[43masyncio\u001B[49m\u001B[38;5;241;43m.\u001B[39;49m\u001B[43mget_event_loop\u001B[49m\u001B[43m(\u001B[49m\u001B[43m)\u001B[49m\u001B[38;5;241;43m.\u001B[39;49m\u001B[43mrun_until_complete\u001B[49m\u001B[43m(\u001B[49m\u001B[43mgenerate_variations\u001B[49m\u001B[43m(\u001B[49m\u001B[43moriginal_url\u001B[49m\u001B[43m,\u001B[49m\u001B[43m \u001B[49m\u001B[43mpreview_url\u001B[49m\u001B[43m,\u001B[49m\u001B[43m \u001B[49m\u001B[43mproject_dir\u001B[49m\u001B[43m,\u001B[49m\u001B[43m \u001B[49m\u001B[43mselector\u001B[49m\u001B[43m)\u001B[49m\u001B[43m)\u001B[49m\n",
      "File \u001B[0;32m~/Work/Sources/mystique-playground/venv/lib/python3.12/site-packages/nest_asyncio.py:98\u001B[0m, in \u001B[0;36m_patch_loop.<locals>.run_until_complete\u001B[0;34m(self, future)\u001B[0m\n\u001B[1;32m     95\u001B[0m \u001B[38;5;28;01mif\u001B[39;00m \u001B[38;5;129;01mnot\u001B[39;00m f\u001B[38;5;241m.\u001B[39mdone():\n\u001B[1;32m     96\u001B[0m     \u001B[38;5;28;01mraise\u001B[39;00m \u001B[38;5;167;01mRuntimeError\u001B[39;00m(\n\u001B[1;32m     97\u001B[0m         \u001B[38;5;124m'\u001B[39m\u001B[38;5;124mEvent loop stopped before Future completed.\u001B[39m\u001B[38;5;124m'\u001B[39m)\n\u001B[0;32m---> 98\u001B[0m \u001B[38;5;28;01mreturn\u001B[39;00m \u001B[43mf\u001B[49m\u001B[38;5;241;43m.\u001B[39;49m\u001B[43mresult\u001B[49m\u001B[43m(\u001B[49m\u001B[43m)\u001B[49m\n",
      "File \u001B[0;32m~/.pyenv/versions/3.12.2/lib/python3.12/asyncio/futures.py:203\u001B[0m, in \u001B[0;36mFuture.result\u001B[0;34m(self)\u001B[0m\n\u001B[1;32m    201\u001B[0m \u001B[38;5;28mself\u001B[39m\u001B[38;5;241m.\u001B[39m__log_traceback \u001B[38;5;241m=\u001B[39m \u001B[38;5;28;01mFalse\u001B[39;00m\n\u001B[1;32m    202\u001B[0m \u001B[38;5;28;01mif\u001B[39;00m \u001B[38;5;28mself\u001B[39m\u001B[38;5;241m.\u001B[39m_exception \u001B[38;5;129;01mis\u001B[39;00m \u001B[38;5;129;01mnot\u001B[39;00m \u001B[38;5;28;01mNone\u001B[39;00m:\n\u001B[0;32m--> 203\u001B[0m     \u001B[38;5;28;01mraise\u001B[39;00m \u001B[38;5;28mself\u001B[39m\u001B[38;5;241m.\u001B[39m_exception\u001B[38;5;241m.\u001B[39mwith_traceback(\u001B[38;5;28mself\u001B[39m\u001B[38;5;241m.\u001B[39m_exception_tb)\n\u001B[1;32m    204\u001B[0m \u001B[38;5;28;01mreturn\u001B[39;00m \u001B[38;5;28mself\u001B[39m\u001B[38;5;241m.\u001B[39m_result\n",
      "File \u001B[0;32m~/.pyenv/versions/3.12.2/lib/python3.12/asyncio/tasks.py:314\u001B[0m, in \u001B[0;36mTask.__step_run_and_handle_result\u001B[0;34m(***failed resolving arguments***)\u001B[0m\n\u001B[1;32m    310\u001B[0m \u001B[38;5;28;01mtry\u001B[39;00m:\n\u001B[1;32m    311\u001B[0m     \u001B[38;5;28;01mif\u001B[39;00m exc \u001B[38;5;129;01mis\u001B[39;00m \u001B[38;5;28;01mNone\u001B[39;00m:\n\u001B[1;32m    312\u001B[0m         \u001B[38;5;66;03m# We use the `send` method directly, because coroutines\u001B[39;00m\n\u001B[1;32m    313\u001B[0m         \u001B[38;5;66;03m# don't have `__iter__` and `__next__` methods.\u001B[39;00m\n\u001B[0;32m--> 314\u001B[0m         result \u001B[38;5;241m=\u001B[39m \u001B[43mcoro\u001B[49m\u001B[38;5;241;43m.\u001B[39;49m\u001B[43msend\u001B[49m\u001B[43m(\u001B[49m\u001B[38;5;28;43;01mNone\u001B[39;49;00m\u001B[43m)\u001B[49m\n\u001B[1;32m    315\u001B[0m     \u001B[38;5;28;01melse\u001B[39;00m:\n\u001B[1;32m    316\u001B[0m         result \u001B[38;5;241m=\u001B[39m coro\u001B[38;5;241m.\u001B[39mthrow(exc)\n",
      "Cell \u001B[0;32mIn[4], line 49\u001B[0m, in \u001B[0;36mgenerate_variations\u001B[0;34m(original_url, preview_url, project_dir, selector)\u001B[0m\n\u001B[1;32m     46\u001B[0m time\u001B[38;5;241m.\u001B[39msleep(\u001B[38;5;241m3\u001B[39m)\n\u001B[1;32m     48\u001B[0m \u001B[38;5;28mprint\u001B[39m(\u001B[38;5;124m'\u001B[39m\u001B[38;5;124mGetting the HTML and screenshot of the preview page...\u001B[39m\u001B[38;5;124m'\u001B[39m)\n\u001B[0;32m---> 49\u001B[0m generated_html, generated_screenshot \u001B[38;5;241m=\u001B[39m \u001B[38;5;28;01mawait\u001B[39;00m get_html_and_screenshot(preview_url \u001B[38;5;241m+\u001B[39m \u001B[38;5;124m'\u001B[39m\u001B[38;5;124m?generatedStyles\u001B[39m\u001B[38;5;124m'\u001B[39m, selector)\n\u001B[1;32m     51\u001B[0m \u001B[38;5;28mprint\u001B[39m(\u001B[38;5;124m'\u001B[39m\u001B[38;5;124mAssessing the quality of the generated styles...\u001B[39m\u001B[38;5;124m'\u001B[39m)\n\u001B[1;32m     52\u001B[0m verification_prompt \u001B[38;5;241m=\u001B[39m create_prompt_from_template(\n\u001B[1;32m     53\u001B[0m     \u001B[38;5;124m\"\u001B[39m\u001B[38;5;124mserver/generation_strategies/default/prompts/verification.txt\u001B[39m\u001B[38;5;124m\"\u001B[39m,\n\u001B[1;32m     54\u001B[0m     html\u001B[38;5;241m=\u001B[39mgenerated_html\u001B[38;5;241m.\u001B[39mstrip()\n\u001B[1;32m     55\u001B[0m )\n",
      "File \u001B[0;32m~/Work/Sources/mystique-playground/server/scraper.py:9\u001B[0m, in \u001B[0;36mget_html_and_screenshot\u001B[0;34m(url, selector)\u001B[0m\n\u001B[1;32m      7\u001B[0m page \u001B[38;5;241m=\u001B[39m \u001B[38;5;28;01mawait\u001B[39;00m browser\u001B[38;5;241m.\u001B[39mnew_page()\n\u001B[1;32m      8\u001B[0m \u001B[38;5;28mprint\u001B[39m(\u001B[38;5;124mf\u001B[39m\u001B[38;5;124m\"\u001B[39m\u001B[38;5;124mGetting HTML and screenshot of \u001B[39m\u001B[38;5;132;01m{\u001B[39;00murl\u001B[38;5;132;01m}\u001B[39;00m\u001B[38;5;124m...\u001B[39m\u001B[38;5;124m\"\u001B[39m)\n\u001B[0;32m----> 9\u001B[0m \u001B[38;5;28;01mawait\u001B[39;00m page\u001B[38;5;241m.\u001B[39mgoto(url)\n\u001B[1;32m     10\u001B[0m \u001B[38;5;28;01mawait\u001B[39;00m page\u001B[38;5;241m.\u001B[39mwait_for_load_state(\u001B[38;5;124m'\u001B[39m\u001B[38;5;124mnetworkidle\u001B[39m\u001B[38;5;124m'\u001B[39m)\n\u001B[1;32m     12\u001B[0m screenshot_data \u001B[38;5;241m=\u001B[39m \u001B[38;5;28;01mawait\u001B[39;00m page\u001B[38;5;241m.\u001B[39mlocator(selector)\u001B[38;5;241m.\u001B[39mscreenshot()\n",
      "File \u001B[0;32m~/Work/Sources/mystique-playground/venv/lib/python3.12/site-packages/playwright/async_api/_generated.py:8657\u001B[0m, in \u001B[0;36mPage.goto\u001B[0;34m(self, url, timeout, wait_until, referer)\u001B[0m\n\u001B[1;32m   8596\u001B[0m \u001B[38;5;28;01masync\u001B[39;00m \u001B[38;5;28;01mdef\u001B[39;00m \u001B[38;5;21mgoto\u001B[39m(\n\u001B[1;32m   8597\u001B[0m     \u001B[38;5;28mself\u001B[39m,\n\u001B[1;32m   8598\u001B[0m     url: \u001B[38;5;28mstr\u001B[39m,\n\u001B[0;32m   (...)\u001B[0m\n\u001B[1;32m   8604\u001B[0m     referer: typing\u001B[38;5;241m.\u001B[39mOptional[\u001B[38;5;28mstr\u001B[39m] \u001B[38;5;241m=\u001B[39m \u001B[38;5;28;01mNone\u001B[39;00m\n\u001B[1;32m   8605\u001B[0m ) \u001B[38;5;241m-\u001B[39m\u001B[38;5;241m>\u001B[39m typing\u001B[38;5;241m.\u001B[39mOptional[\u001B[38;5;124m\"\u001B[39m\u001B[38;5;124mResponse\u001B[39m\u001B[38;5;124m\"\u001B[39m]:\n\u001B[1;32m   8606\u001B[0m \u001B[38;5;250m    \u001B[39m\u001B[38;5;124;03m\"\"\"Page.goto\u001B[39;00m\n\u001B[1;32m   8607\u001B[0m \n\u001B[1;32m   8608\u001B[0m \u001B[38;5;124;03m    Returns the main resource response. In case of multiple redirects, the navigation will resolve with the first\u001B[39;00m\n\u001B[0;32m   (...)\u001B[0m\n\u001B[1;32m   8653\u001B[0m \u001B[38;5;124;03m    Union[Response, None]\u001B[39;00m\n\u001B[1;32m   8654\u001B[0m \u001B[38;5;124;03m    \"\"\"\u001B[39;00m\n\u001B[1;32m   8656\u001B[0m     \u001B[38;5;28;01mreturn\u001B[39;00m mapping\u001B[38;5;241m.\u001B[39mfrom_impl_nullable(\n\u001B[0;32m-> 8657\u001B[0m         \u001B[38;5;28;01mawait\u001B[39;00m \u001B[38;5;28mself\u001B[39m\u001B[38;5;241m.\u001B[39m_impl_obj\u001B[38;5;241m.\u001B[39mgoto(\n\u001B[1;32m   8658\u001B[0m             url\u001B[38;5;241m=\u001B[39murl, timeout\u001B[38;5;241m=\u001B[39mtimeout, waitUntil\u001B[38;5;241m=\u001B[39mwait_until, referer\u001B[38;5;241m=\u001B[39mreferer\n\u001B[1;32m   8659\u001B[0m         )\n\u001B[1;32m   8660\u001B[0m     )\n",
      "File \u001B[0;32m~/Work/Sources/mystique-playground/venv/lib/python3.12/site-packages/playwright/_impl/_page.py:519\u001B[0m, in \u001B[0;36mPage.goto\u001B[0;34m(self, url, timeout, waitUntil, referer)\u001B[0m\n\u001B[1;32m    512\u001B[0m \u001B[38;5;28;01masync\u001B[39;00m \u001B[38;5;28;01mdef\u001B[39;00m \u001B[38;5;21mgoto\u001B[39m(\n\u001B[1;32m    513\u001B[0m     \u001B[38;5;28mself\u001B[39m,\n\u001B[1;32m    514\u001B[0m     url: \u001B[38;5;28mstr\u001B[39m,\n\u001B[0;32m   (...)\u001B[0m\n\u001B[1;32m    517\u001B[0m     referer: \u001B[38;5;28mstr\u001B[39m \u001B[38;5;241m=\u001B[39m \u001B[38;5;28;01mNone\u001B[39;00m,\n\u001B[1;32m    518\u001B[0m ) \u001B[38;5;241m-\u001B[39m\u001B[38;5;241m>\u001B[39m Optional[Response]:\n\u001B[0;32m--> 519\u001B[0m     \u001B[38;5;28;01mreturn\u001B[39;00m \u001B[38;5;28;01mawait\u001B[39;00m \u001B[38;5;28mself\u001B[39m\u001B[38;5;241m.\u001B[39m_main_frame\u001B[38;5;241m.\u001B[39mgoto(\u001B[38;5;241m*\u001B[39m\u001B[38;5;241m*\u001B[39mlocals_to_params(\u001B[38;5;28mlocals\u001B[39m()))\n",
      "File \u001B[0;32m~/Work/Sources/mystique-playground/venv/lib/python3.12/site-packages/playwright/_impl/_frame.py:145\u001B[0m, in \u001B[0;36mFrame.goto\u001B[0;34m(self, url, timeout, waitUntil, referer)\u001B[0m\n\u001B[1;32m    135\u001B[0m \u001B[38;5;28;01masync\u001B[39;00m \u001B[38;5;28;01mdef\u001B[39;00m \u001B[38;5;21mgoto\u001B[39m(\n\u001B[1;32m    136\u001B[0m     \u001B[38;5;28mself\u001B[39m,\n\u001B[1;32m    137\u001B[0m     url: \u001B[38;5;28mstr\u001B[39m,\n\u001B[0;32m   (...)\u001B[0m\n\u001B[1;32m    140\u001B[0m     referer: \u001B[38;5;28mstr\u001B[39m \u001B[38;5;241m=\u001B[39m \u001B[38;5;28;01mNone\u001B[39;00m,\n\u001B[1;32m    141\u001B[0m ) \u001B[38;5;241m-\u001B[39m\u001B[38;5;241m>\u001B[39m Optional[Response]:\n\u001B[1;32m    142\u001B[0m     \u001B[38;5;28;01mreturn\u001B[39;00m cast(\n\u001B[1;32m    143\u001B[0m         Optional[Response],\n\u001B[1;32m    144\u001B[0m         from_nullable_channel(\n\u001B[0;32m--> 145\u001B[0m             \u001B[38;5;28;01mawait\u001B[39;00m \u001B[38;5;28mself\u001B[39m\u001B[38;5;241m.\u001B[39m_channel\u001B[38;5;241m.\u001B[39msend(\u001B[38;5;124m\"\u001B[39m\u001B[38;5;124mgoto\u001B[39m\u001B[38;5;124m\"\u001B[39m, locals_to_params(\u001B[38;5;28mlocals\u001B[39m()))\n\u001B[1;32m    146\u001B[0m         ),\n\u001B[1;32m    147\u001B[0m     )\n",
      "File \u001B[0;32m~/Work/Sources/mystique-playground/venv/lib/python3.12/site-packages/playwright/_impl/_connection.py:59\u001B[0m, in \u001B[0;36mChannel.send\u001B[0;34m(self, method, params)\u001B[0m\n\u001B[1;32m     58\u001B[0m \u001B[38;5;28;01masync\u001B[39;00m \u001B[38;5;28;01mdef\u001B[39;00m \u001B[38;5;21msend\u001B[39m(\u001B[38;5;28mself\u001B[39m, method: \u001B[38;5;28mstr\u001B[39m, params: Dict \u001B[38;5;241m=\u001B[39m \u001B[38;5;28;01mNone\u001B[39;00m) \u001B[38;5;241m-\u001B[39m\u001B[38;5;241m>\u001B[39m Any:\n\u001B[0;32m---> 59\u001B[0m     \u001B[38;5;28;01mreturn\u001B[39;00m \u001B[38;5;28;01mawait\u001B[39;00m \u001B[38;5;28mself\u001B[39m\u001B[38;5;241m.\u001B[39m_connection\u001B[38;5;241m.\u001B[39mwrap_api_call(\n\u001B[1;32m     60\u001B[0m         \u001B[38;5;28;01mlambda\u001B[39;00m: \u001B[38;5;28mself\u001B[39m\u001B[38;5;241m.\u001B[39minner_send(method, params, \u001B[38;5;28;01mFalse\u001B[39;00m)\n\u001B[1;32m     61\u001B[0m     )\n",
      "File \u001B[0;32m~/Work/Sources/mystique-playground/venv/lib/python3.12/site-packages/playwright/_impl/_connection.py:514\u001B[0m, in \u001B[0;36mConnection.wrap_api_call\u001B[0;34m(self, cb, is_internal)\u001B[0m\n\u001B[1;32m    512\u001B[0m     \u001B[38;5;28;01mreturn\u001B[39;00m \u001B[38;5;28;01mawait\u001B[39;00m cb()\n\u001B[1;32m    513\u001B[0m \u001B[38;5;28;01mexcept\u001B[39;00m \u001B[38;5;167;01mException\u001B[39;00m \u001B[38;5;28;01mas\u001B[39;00m error:\n\u001B[0;32m--> 514\u001B[0m     \u001B[38;5;28;01mraise\u001B[39;00m rewrite_error(error, \u001B[38;5;124mf\u001B[39m\u001B[38;5;124m\"\u001B[39m\u001B[38;5;132;01m{\u001B[39;00mparsed_st[\u001B[38;5;124m'\u001B[39m\u001B[38;5;124mapiName\u001B[39m\u001B[38;5;124m'\u001B[39m]\u001B[38;5;132;01m}\u001B[39;00m\u001B[38;5;124m: \u001B[39m\u001B[38;5;132;01m{\u001B[39;00merror\u001B[38;5;132;01m}\u001B[39;00m\u001B[38;5;124m\"\u001B[39m) \u001B[38;5;28;01mfrom\u001B[39;00m \u001B[38;5;28;01mNone\u001B[39;00m\n\u001B[1;32m    515\u001B[0m \u001B[38;5;28;01mfinally\u001B[39;00m:\n\u001B[1;32m    516\u001B[0m     \u001B[38;5;28mself\u001B[39m\u001B[38;5;241m.\u001B[39m_api_zone\u001B[38;5;241m.\u001B[39mset(\u001B[38;5;28;01mNone\u001B[39;00m)\n",
      "\u001B[0;31mError\u001B[0m: Page.goto: net::ERR_CONNECTION_REFUSED at http://localhost:3000/?generatedStyles\nCall log:\nnavigating to \"http://localhost:3000/?generatedStyles\", waiting until \"load\"\n"
     ]
    }
   ],
   "execution_count": 4
  },
  {
   "metadata": {},
   "cell_type": "code",
   "outputs": [],
   "execution_count": null,
   "source": "",
   "id": "220768b13d1e4d4a"
  }
 ],
 "metadata": {
  "kernelspec": {
   "display_name": "Python 3 (ipykernel)",
   "language": "python",
   "name": "python3"
  },
  "language_info": {
   "codemirror_mode": {
    "name": "ipython",
    "version": 3
   },
   "file_extension": ".py",
   "mimetype": "text/x-python",
   "name": "python",
   "nbconvert_exporter": "python",
   "pygments_lexer": "ipython3",
   "version": "3.12.2"
  }
 },
 "nbformat": 4,
 "nbformat_minor": 5
}
